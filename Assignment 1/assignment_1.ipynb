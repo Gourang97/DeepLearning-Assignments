{
  "nbformat": 4,
  "nbformat_minor": 0,
  "metadata": {
    "colab": {
      "name": "deepL_1.ipynb",
      "provenance": []
    },
    "kernelspec": {
      "name": "python3",
      "display_name": "Python 3"
    },
    "accelerator": "GPU",
    "widgets": {
      "application/vnd.jupyter.widget-state+json": {
        "72b6f969ee2c4fcc9bfda2da4df6e4ce": {
          "model_module": "@jupyter-widgets/controls",
          "model_name": "HBoxModel",
          "state": {
            "_view_name": "HBoxView",
            "_dom_classes": [],
            "_model_name": "HBoxModel",
            "_view_module": "@jupyter-widgets/controls",
            "_model_module_version": "1.5.0",
            "_view_count": null,
            "_view_module_version": "1.5.0",
            "box_style": "",
            "layout": "IPY_MODEL_2c34a1fb06584c459d0b97619bd7fabb",
            "_model_module": "@jupyter-widgets/controls",
            "children": [
              "IPY_MODEL_c7a7e953cb6a4c089d0c7f36274d68db",
              "IPY_MODEL_b543cd58014942f6bad95c37a0f566d6"
            ]
          }
        },
        "2c34a1fb06584c459d0b97619bd7fabb": {
          "model_module": "@jupyter-widgets/base",
          "model_name": "LayoutModel",
          "state": {
            "_view_name": "LayoutView",
            "grid_template_rows": null,
            "right": null,
            "justify_content": null,
            "_view_module": "@jupyter-widgets/base",
            "overflow": null,
            "_model_module_version": "1.2.0",
            "_view_count": null,
            "flex_flow": null,
            "width": null,
            "min_width": null,
            "border": null,
            "align_items": null,
            "bottom": null,
            "_model_module": "@jupyter-widgets/base",
            "top": null,
            "grid_column": null,
            "overflow_y": null,
            "overflow_x": null,
            "grid_auto_flow": null,
            "grid_area": null,
            "grid_template_columns": null,
            "flex": null,
            "_model_name": "LayoutModel",
            "justify_items": null,
            "grid_row": null,
            "max_height": null,
            "align_content": null,
            "visibility": null,
            "align_self": null,
            "height": null,
            "min_height": null,
            "padding": null,
            "grid_auto_rows": null,
            "grid_gap": null,
            "max_width": null,
            "order": null,
            "_view_module_version": "1.2.0",
            "grid_template_areas": null,
            "object_position": null,
            "object_fit": null,
            "grid_auto_columns": null,
            "margin": null,
            "display": null,
            "left": null
          }
        },
        "c7a7e953cb6a4c089d0c7f36274d68db": {
          "model_module": "@jupyter-widgets/controls",
          "model_name": "FloatProgressModel",
          "state": {
            "_view_name": "ProgressView",
            "style": "IPY_MODEL_b1143c44227f42778ec7f3ab46d213e3",
            "_dom_classes": [],
            "description": "100%",
            "_model_name": "FloatProgressModel",
            "bar_style": "success",
            "max": 46827520,
            "_view_module": "@jupyter-widgets/controls",
            "_model_module_version": "1.5.0",
            "value": 46827520,
            "_view_count": null,
            "_view_module_version": "1.5.0",
            "orientation": "horizontal",
            "min": 0,
            "description_tooltip": null,
            "_model_module": "@jupyter-widgets/controls",
            "layout": "IPY_MODEL_c6d95c1af3f442bdb2cc28370466322c"
          }
        },
        "b543cd58014942f6bad95c37a0f566d6": {
          "model_module": "@jupyter-widgets/controls",
          "model_name": "HTMLModel",
          "state": {
            "_view_name": "HTMLView",
            "style": "IPY_MODEL_94caa38df9644b83b761cfdfb897313e",
            "_dom_classes": [],
            "description": "",
            "_model_name": "HTMLModel",
            "placeholder": "​",
            "_view_module": "@jupyter-widgets/controls",
            "_model_module_version": "1.5.0",
            "value": " 44.7M/44.7M [00:01&lt;00:00, 26.4MB/s]",
            "_view_count": null,
            "_view_module_version": "1.5.0",
            "description_tooltip": null,
            "_model_module": "@jupyter-widgets/controls",
            "layout": "IPY_MODEL_432735a9c26d4dbbb2872755c98f7bb1"
          }
        },
        "b1143c44227f42778ec7f3ab46d213e3": {
          "model_module": "@jupyter-widgets/controls",
          "model_name": "ProgressStyleModel",
          "state": {
            "_view_name": "StyleView",
            "_model_name": "ProgressStyleModel",
            "description_width": "initial",
            "_view_module": "@jupyter-widgets/base",
            "_model_module_version": "1.5.0",
            "_view_count": null,
            "_view_module_version": "1.2.0",
            "bar_color": null,
            "_model_module": "@jupyter-widgets/controls"
          }
        },
        "c6d95c1af3f442bdb2cc28370466322c": {
          "model_module": "@jupyter-widgets/base",
          "model_name": "LayoutModel",
          "state": {
            "_view_name": "LayoutView",
            "grid_template_rows": null,
            "right": null,
            "justify_content": null,
            "_view_module": "@jupyter-widgets/base",
            "overflow": null,
            "_model_module_version": "1.2.0",
            "_view_count": null,
            "flex_flow": null,
            "width": null,
            "min_width": null,
            "border": null,
            "align_items": null,
            "bottom": null,
            "_model_module": "@jupyter-widgets/base",
            "top": null,
            "grid_column": null,
            "overflow_y": null,
            "overflow_x": null,
            "grid_auto_flow": null,
            "grid_area": null,
            "grid_template_columns": null,
            "flex": null,
            "_model_name": "LayoutModel",
            "justify_items": null,
            "grid_row": null,
            "max_height": null,
            "align_content": null,
            "visibility": null,
            "align_self": null,
            "height": null,
            "min_height": null,
            "padding": null,
            "grid_auto_rows": null,
            "grid_gap": null,
            "max_width": null,
            "order": null,
            "_view_module_version": "1.2.0",
            "grid_template_areas": null,
            "object_position": null,
            "object_fit": null,
            "grid_auto_columns": null,
            "margin": null,
            "display": null,
            "left": null
          }
        },
        "94caa38df9644b83b761cfdfb897313e": {
          "model_module": "@jupyter-widgets/controls",
          "model_name": "DescriptionStyleModel",
          "state": {
            "_view_name": "StyleView",
            "_model_name": "DescriptionStyleModel",
            "description_width": "",
            "_view_module": "@jupyter-widgets/base",
            "_model_module_version": "1.5.0",
            "_view_count": null,
            "_view_module_version": "1.2.0",
            "_model_module": "@jupyter-widgets/controls"
          }
        },
        "432735a9c26d4dbbb2872755c98f7bb1": {
          "model_module": "@jupyter-widgets/base",
          "model_name": "LayoutModel",
          "state": {
            "_view_name": "LayoutView",
            "grid_template_rows": null,
            "right": null,
            "justify_content": null,
            "_view_module": "@jupyter-widgets/base",
            "overflow": null,
            "_model_module_version": "1.2.0",
            "_view_count": null,
            "flex_flow": null,
            "width": null,
            "min_width": null,
            "border": null,
            "align_items": null,
            "bottom": null,
            "_model_module": "@jupyter-widgets/base",
            "top": null,
            "grid_column": null,
            "overflow_y": null,
            "overflow_x": null,
            "grid_auto_flow": null,
            "grid_area": null,
            "grid_template_columns": null,
            "flex": null,
            "_model_name": "LayoutModel",
            "justify_items": null,
            "grid_row": null,
            "max_height": null,
            "align_content": null,
            "visibility": null,
            "align_self": null,
            "height": null,
            "min_height": null,
            "padding": null,
            "grid_auto_rows": null,
            "grid_gap": null,
            "max_width": null,
            "order": null,
            "_view_module_version": "1.2.0",
            "grid_template_areas": null,
            "object_position": null,
            "object_fit": null,
            "grid_auto_columns": null,
            "margin": null,
            "display": null,
            "left": null
          }
        }
      }
    }
  },
  "cells": [
    {
      "cell_type": "code",
      "metadata": {
        "id": "deuGkmZ7OeSh"
      },
      "source": [
        ""
      ],
      "execution_count": null,
      "outputs": []
    },
    {
      "cell_type": "markdown",
      "metadata": {
        "id": "HbLu5tNLOvIy"
      },
      "source": [
        "Question 2. In this problem, you will train a classifier on the MNIST dataset.You can find this dataset\r\n",
        "in TorchVision. Train a fully-connected neural network with 2 hidden layers and ReLU activations."
      ]
    },
    {
      "cell_type": "code",
      "metadata": {
        "id": "mwmy3tg6Pc1A"
      },
      "source": [
        "import torchvision\r\n",
        "import os"
      ],
      "execution_count": 7,
      "outputs": []
    },
    {
      "cell_type": "code",
      "metadata": {
        "id": "EaSAsQ0rOxQr"
      },
      "source": [
        "import numpy as np\r\n",
        "import torch\r\n",
        "import torch.nn as nn\r\n",
        "import torch.nn.functional as F\r\n",
        "import torch.optim as optim\r\n",
        "from torch.autograd import Variable\r\n",
        "from torchvision import transforms\r\n",
        "import torch.utils.data as Data\r\n",
        "import pandas as pd\r\n",
        "import matplotlib.pyplot as plt"
      ],
      "execution_count": 8,
      "outputs": []
    },
    {
      "cell_type": "code",
      "metadata": {
        "id": "mVJbvjGzPZBi"
      },
      "source": [
        "if not(os.path.exists('./mnist/')) or not os.listdir('./mnist/'):    \r\n",
        "    DOWNLOAD_MNIST = True\r\n",
        "\r\n",
        "train_data = torchvision.datasets.MNIST(\r\n",
        "    root='./mnist/',\r\n",
        "    train=True,                                     \r\n",
        "    transform=torchvision.transforms.ToTensor(),                                                   \r\n",
        "    download=True,\r\n",
        ")\r\n",
        "\r\n",
        "test_data = torchvision.datasets.MNIST(\r\n",
        "    root='./mnist/',\r\n",
        "    train=False,                                     \r\n",
        "    transform=torchvision.transforms.ToTensor(),                                                   \r\n",
        "    download=True,\r\n",
        ")\r\n"
      ],
      "execution_count": 10,
      "outputs": []
    },
    {
      "cell_type": "code",
      "metadata": {
        "colab": {
          "base_uri": "https://localhost:8080/",
          "height": 315
        },
        "id": "DRERURI9QAfK",
        "outputId": "b25c9b82-2595-420d-ed9d-d3b20bce9df0"
      },
      "source": [
        "print(\"Training Data Size: {}\".format(train_data.data.size()))\r\n",
        "print(\"Training Data Labels Size : {}\".format(train_data.targets.size()))\r\n",
        "plt.imshow(train_data.data[0].numpy(), cmap = 'gray')\r\n",
        "plt.title(train_data.targets[0])\r\n",
        "plt.show()"
      ],
      "execution_count": 11,
      "outputs": [
        {
          "output_type": "stream",
          "text": [
            "Training Data Size: torch.Size([60000, 28, 28])\n",
            "Training Data Labels Size : torch.Size([60000])\n"
          ],
          "name": "stdout"
        },
        {
          "output_type": "display_data",
          "data": {
            "image/png": "[encoded data removed]",
            "text/plain": [
              "<Figure size 432x288 with 1 Axes>"
            ]
          },
          "metadata": {
            "tags": [],
            "needs_background": "light"
          }
        }
      ]
    },
    {
      "cell_type": "code",
      "metadata": {
        "colab": {
          "base_uri": "https://localhost:8080/"
        },
        "id": "7N0Ar3OrYGpc",
        "outputId": "51562903-2690-4fbf-d7dc-505fa26e271b"
      },
      "source": [
        "## CNN with two hidden layers and Relu Activation for MNIST\r\n",
        "## training parameters\r\n",
        "\r\n",
        "BATCH_SIZE = 60\r\n",
        "NUM_EPOCHS = 10\r\n",
        "LEARNING_R = 0.001\r\n",
        "DROPOUT_P = 0.5\r\n",
        "num_classes = 10\r\n",
        "\r\n",
        "seed = 1234\r\n",
        "torch.manual_seed(seed)"
      ],
      "execution_count": 24,
      "outputs": [
        {
          "output_type": "execute_result",
          "data": {
            "text/plain": [
              "<torch._C.Generator at 0x7f3ee7318c48>"
            ]
          },
          "metadata": {
            "tags": []
          },
          "execution_count": 24
        }
      ]
    },
    {
      "cell_type": "code",
      "metadata": {
        "colab": {
          "base_uri": "https://localhost:8080/"
        },
        "id": "1a-zX7W2vmAm",
        "outputId": "449337c8-815d-46e7-88e7-745178e905e0"
      },
      "source": [
        "train_data_loader = Data.DataLoader(\r\n",
        "    dataset = train_data, \r\n",
        "    batch_size = BATCH_SIZE,\r\n",
        "    shuffle = True\r\n",
        "    ) \r\n",
        "test_data_loader = Data.DataLoader(\r\n",
        "    dataset = test_data,\r\n",
        "    batch_size = BATCH_SIZE,\r\n",
        "    shuffle = True\r\n",
        ")\r\n"
      ],
      "execution_count": 23,
      "outputs": [
        {
          "output_type": "execute_result",
          "data": {
            "text/plain": [
              "1000"
            ]
          },
          "metadata": {
            "tags": []
          },
          "execution_count": 23
        }
      ]
    },
    {
      "cell_type": "code",
      "metadata": {
        "colab": {
          "base_uri": "https://localhost:8080/",
          "height": 105
        },
        "id": "Pa9ivFzWwH_X",
        "outputId": "7b5e0d5b-fb79-4c26-c21a-e35c261371ca"
      },
      "source": [
        "## Visualizing the test data\r\n",
        "batch = next(iter(test_data_loader))\r\n",
        "samples = batch[0][:5]\r\n",
        "y_true = batch[1]\r\n",
        "\r\n",
        "for i,sample in enumerate(samples):\r\n",
        "  plt.subplot(1,5,i+1)\r\n",
        "  plt.title(\"Number %i\" %y_true[i])\r\n",
        "  plt.imshow(sample.numpy().reshape((28,28)), cmap = 'gray')\r\n",
        "  plt.axis(\"off\")\r\n"
      ],
      "execution_count": 20,
      "outputs": [
        {
          "output_type": "display_data",
          "data": {
            "image/png": "[encoded data removed]",
            "text/plain": [
              "<Figure size 432x288 with 5 Axes>"
            ]
          },
          "metadata": {
            "tags": [],
            "needs_background": "light"
          }
        }
      ]
    },
    {
      "cell_type": "code",
      "metadata": {
        "id": "MakYtM3w075H"
      },
      "source": [
        "## CNN Model\r\n",
        "\r\n",
        "class CNN(nn.Module):\r\n",
        "\r\n",
        "  def __init__(self, DROPOUT_P, num_classes):\r\n",
        "    super().__init__()\r\n",
        "    self.conv1 = nn.Conv2d(1, 10, kernel_size = 5)\r\n",
        "    self.relu1 = nn.ReLU()\r\n",
        "    self.maxPool1 = nn.MaxPool2d(kernel_size=2)\r\n",
        "    self.conv2 = nn.Conv2d(10, 20, kernel_size = 5)\r\n",
        "    self.relu2 = nn.ReLU()\r\n",
        "    # self.dropout = nn.Dropout2d(DROPOUT_P)\r\n",
        "    self.maxPool2 = nn.MaxPool2d(kernel_size=2)\r\n",
        "\r\n",
        "    self.fc1 = nn.Linear(320, num_classes)\r\n",
        "\r\n",
        "  def forward(self, x):\r\n",
        "    \r\n",
        "    # Convolution 1\r\n",
        "    x = self.conv1(x)\r\n",
        "    x = self.relu1(x)\r\n",
        "    x = self.maxPool1(x)\r\n",
        "\r\n",
        "    #  Convolution 2\r\n",
        "    x = self.conv2(x)\r\n",
        "    x = self.relu2(x)\r\n",
        "    x= self.maxPool2(x)\r\n",
        "\r\n",
        "    # Flatten\r\n",
        "    x = x.view(x.size(0), -1)\r\n",
        "    x = self.fc1(x)\r\n",
        "\r\n",
        "    return x\r\n"
      ],
      "execution_count": 15,
      "outputs": []
    },
    {
      "cell_type": "code",
      "metadata": {
        "id": "ETFuLsWT9GED"
      },
      "source": [
        "model = CNN(DROPOUT_P, num_classes)\r\n",
        "# Adam Optimizer\r\n",
        "optimizer = optim.SGD(model.parameters(), lr = LEARNING_R)\r\n",
        "# Categorical Test and check class is it\r\n",
        "criterion = torch.nn.CrossEntropyLoss()"
      ],
      "execution_count": 16,
      "outputs": []
    },
    {
      "cell_type": "code",
      "metadata": {
        "colab": {
          "base_uri": "https://localhost:8080/"
        },
        "id": "TMsjl4yU_j7t",
        "outputId": "cb6ae49d-367a-48d4-8738-db871e101202"
      },
      "source": [
        "# CNN Model Training\r\n",
        "\r\n",
        "loss_list = []\r\n",
        "accuracy = []\r\n",
        "iterations = []\r\n",
        "running_loss = 0.0\r\n",
        "total_train = 0.0\r\n",
        "correct_train = 0.0 \r\n",
        "\r\n",
        "for epoch in range(NUM_EPOCHS):\r\n",
        "  for i, (image, labels) in enumerate(train_data_loader):\r\n",
        "    # print(i)\r\n",
        "\r\n",
        "    train = Variable(image)\r\n",
        "    labels = Variable(labels)\r\n",
        "    optimizer.zero_grad()\r\n",
        "\r\n",
        "    output = model(train)\r\n",
        "    loss = criterion(output, labels)\r\n",
        "\r\n",
        "    loss.backward()\r\n",
        "    optimizer.step()\r\n",
        "\r\n",
        "    # normalizer_train = len(train_loader.dataset)\r\n",
        "\t  # total_epoch_loss_train = loss / normalizer_train\r\n",
        "    # print statistics\r\n",
        "    running_loss += loss.item()\r\n",
        "    _, predicted = torch.max(output.data,1)\r\n",
        "    total_train += labels.size(0)\r\n",
        "    correct_train += predicted.eq(labels.data).sum().item()\r\n",
        "    train_accuracy = 100 * correct_train / total_train\r\n",
        "\r\n",
        "    if i % 1000 == 999:    \r\n",
        "        print('[%d, %5d] loss: %.3f Accuracy: %d' %\r\n",
        "              (epoch + 1, i + 1, running_loss/1000, train_accuracy))\r\n",
        "        loss_list.append(running_loss/1000)\r\n",
        "        running_loss = 0.0\r\n",
        "    "
      ],
      "execution_count": 33,
      "outputs": [
        {
          "output_type": "stream",
          "text": [
            "[1,  1000] loss: 0.135 Accuracy: 95\n",
            "[2,  1000] loss: 0.132 Accuracy: 96\n",
            "[3,  1000] loss: 0.130 Accuracy: 96\n",
            "[4,  1000] loss: 0.127 Accuracy: 96\n",
            "[5,  1000] loss: 0.125 Accuracy: 96\n",
            "[6,  1000] loss: 0.123 Accuracy: 96\n",
            "[7,  1000] loss: 0.120 Accuracy: 96\n",
            "[8,  1000] loss: 0.119 Accuracy: 96\n",
            "[9,  1000] loss: 0.117 Accuracy: 96\n",
            "[10,  1000] loss: 0.115 Accuracy: 96\n"
          ],
          "name": "stdout"
        }
      ]
    },
    {
      "cell_type": "code",
      "metadata": {
        "id": "XlqRsenk_lex"
      },
      "source": [
        "PATH = './mnist_net.pth'\r\n",
        "torch.save(model.state_dict(), PATH)"
      ],
      "execution_count": 34,
      "outputs": []
    },
    {
      "cell_type": "code",
      "metadata": {
        "colab": {
          "base_uri": "https://localhost:8080/"
        },
        "id": "3cPh6zJiaKaf",
        "outputId": "1c3200ec-feaf-4a61-f935-22e8c9355f66"
      },
      "source": [
        "total_test = 0.0\r\n",
        "correct_test = 0.0\r\n",
        "test_accuracy  = []\r\n",
        "for epoch in range(NUM_EPOCHS):\r\n",
        "  for i, (image, labels) in enumerate(test_data_loader):\r\n",
        "    output = model(image)\r\n",
        "    _, predicted = torch.max(output, 1)\r\n",
        "    total_test += labels.size(0)\r\n",
        "    correct_test += predicted.eq(labels.data).sum().item()\r\n",
        "    test_accuracy.append(100 * correct_test / total_test)  \r\n",
        "    # print(len(predicted))\r\n"
      ],
      "execution_count": 43,
      "outputs": [
        {
          "output_type": "execute_result",
          "data": {
            "text/plain": [
              "1670"
            ]
          },
          "metadata": {
            "tags": []
          },
          "execution_count": 43
        }
      ]
    },
    {
      "cell_type": "code",
      "metadata": {
        "id": "XdCAfzhjoqjp"
      },
      "source": [
        ""
      ],
      "execution_count": 44,
      "outputs": []
    },
    {
      "cell_type": "code",
      "metadata": {
        "colab": {
          "base_uri": "https://localhost:8080/",
          "height": 100,
          "referenced_widgets": [
            "72b6f969ee2c4fcc9bfda2da4df6e4ce",
            "2c34a1fb06584c459d0b97619bd7fabb",
            "c7a7e953cb6a4c089d0c7f36274d68db",
            "b543cd58014942f6bad95c37a0f566d6",
            "b1143c44227f42778ec7f3ab46d213e3",
            "c6d95c1af3f442bdb2cc28370466322c",
            "94caa38df9644b83b761cfdfb897313e",
            "432735a9c26d4dbbb2872755c98f7bb1"
          ]
        },
        "id": "IPhXhtEep4vk",
        "outputId": "90a93a55-4a6c-47bf-9f4e-b16c96cdf325"
      },
      "source": [
        "model_resnet = torch.hub.load('pytorch/vision:v0.6.0', 'resnet18', pretrained=True)"
      ],
      "execution_count": 45,
      "outputs": [
        {
          "output_type": "stream",
          "text": [
            "Downloading: \"https://github.com/pytorch/vision/archive/v0.6.0.zip\" to /root/.cache/torch/hub/v0.6.0.zip\n",
            "Downloading: \"https://download.pytorch.org/models/resnet18-5c106cde.pth\" to /root/.cache/torch/hub/checkpoints/resnet18-5c106cde.pth\n"
          ],
          "name": "stderr"
        },
        {
          "output_type": "display_data",
          "data": {
            "application/vnd.jupyter.widget-view+json": {
              "model_id": "72b6f969ee2c4fcc9bfda2da4df6e4ce",
              "version_minor": 0,
              "version_major": 2
            },
            "text/plain": [
              "HBox(children=(FloatProgress(value=0.0, max=46827520.0), HTML(value='')))"
            ]
          },
          "metadata": {
            "tags": []
          }
        },
        {
          "output_type": "stream",
          "text": [
            "\n"
          ],
          "name": "stdout"
        }
      ]
    },
    {
      "cell_type": "code",
      "metadata": {
        "id": "zYjabOvaqzVq"
      },
      "source": [
        "transform = transforms.Compose([\r\n",
        "    transforms.Resize(256),\r\n",
        "    transforms.CenterCrop(224),\r\n",
        "    transforms.ToTensor()\r\n",
        "    \r\n",
        "])"
      ],
      "execution_count": 47,
      "outputs": []
    },
    {
      "cell_type": "code",
      "metadata": {
        "id": "sF6H-WDvrk2J"
      },
      "source": [
        "from PIL import Image\r\n",
        "img = Image.open('/content/dog.jpg')"
      ],
      "execution_count": 49,
      "outputs": []
    },
    {
      "cell_type": "code",
      "metadata": {
        "colab": {
          "base_uri": "https://localhost:8080/",
          "height": 265
        },
        "id": "0zIG42dDrp_p",
        "outputId": "1f728216-0dd5-4c08-d4ef-3a8d86d27049"
      },
      "source": [
        "plt.imshow(img)\r\n",
        "plt.axis(\"off\")\r\n"
      ],
      "execution_count": 55,
      "outputs": [
        {
          "output_type": "execute_result",
          "data": {
            "text/plain": [
              "(-0.5, 1187.5, 2207.5, -0.5)"
            ]
          },
          "metadata": {
            "tags": []
          },
          "execution_count": 55
        },
        {
          "output_type": "display_data",
          "data": {
            "image/png": "[encoded data removed]",
            "text/plain": [
              "<Figure size 432x288 with 1 Axes>"
            ]
          },
          "metadata": {
            "tags": [],
            "needs_background": "light"
          }
        }
      ]
    },
    {
      "cell_type": "code",
      "metadata": {
        "id": "pKvgCdw8sJNY"
      },
      "source": [
        "transform_img = transform(img)\r\n",
        "batch_t = torch.unsqueeze(transform_img, 0)\r\n"
      ],
      "execution_count": 61,
      "outputs": []
    },
    {
      "cell_type": "code",
      "metadata": {
        "id": "ANWKiecNsalM"
      },
      "source": [
        "model_resnet.eval()\r\n",
        "output = model_resnet(batch_t)"
      ],
      "execution_count": 63,
      "outputs": []
    },
    {
      "cell_type": "code",
      "metadata": {
        "id": "YRnf4_-dsuPj"
      },
      "source": [
        "with open('/content/imagenet1000_clsidx_to_labels.txt') as f:\r\n",
        "  classes = [line.strip() for line in f.readlines()]"
      ],
      "execution_count": 69,
      "outputs": []
    },
    {
      "cell_type": "code",
      "metadata": {
        "colab": {
          "base_uri": "https://localhost:8080/"
        },
        "id": "XsyU5LiRtGSb",
        "outputId": "6f161d91-6396-492e-e46c-072e185f3137"
      },
      "source": [
        ""
      ],
      "execution_count": 75,
      "outputs": [
        {
          "output_type": "execute_result",
          "data": {
            "text/plain": [
              "tensor([3.8729e-05, 1.7481e-02, 8.4939e-04, 7.9850e-05, 5.1707e-04, 6.8422e-03,\n",
              "        3.1827e-03, 1.4075e-03, 1.9445e-03, 5.0468e-04, 3.9395e-04, 5.9761e-05,\n",
              "        3.9930e-04, 3.1625e-04, 6.8624e-05, 2.5957e-04, 2.4515e-03, 3.4252e-03,\n",
              "        2.3926e-04, 9.9263e-04, 1.1057e-04, 2.4808e-04, 1.5786e-05, 1.2155e-04,\n",
              "        7.3964e-05, 2.5574e-05, 6.2204e-05, 1.2942e-04, 1.1852e-04, 3.0889e-04,\n",
              "        2.0745e-04, 9.3574e-04, 1.2939e-04, 6.1183e-04, 8.9062e-04, 7.7286e-05,\n",
              "        7.7863e-05, 8.6414e-05, 1.2136e-04, 4.8093e-05, 1.7117e-04, 5.2460e-05,\n",
              "        1.0247e-04, 1.3023e-04, 2.8981e-04, 1.7384e-04, 1.5139e-04, 3.1851e-04,\n",
              "        1.4958e-05, 5.2549e-04, 1.4338e-04, 6.8873e-03, 1.8138e-04, 1.2419e-04,\n",
              "        5.5197e-04, 4.1289e-04, 4.3367e-04, 2.9371e-05, 2.1359e-04, 4.2254e-04,\n",
              "        7.9022e-04, 2.2033e-04, 4.7699e-04, 3.4009e-05, 2.1152e-04, 2.2602e-04,\n",
              "        9.9983e-04, 3.0628e-04, 4.5116e-04, 3.6708e-05, 2.3154e-04, 2.6843e-04,\n",
              "        2.5227e-05, 8.2096e-05, 2.9834e-05, 1.8376e-04, 2.1201e-05, 2.3774e-05,\n",
              "        3.3814e-03, 1.2020e-03, 4.1118e-05, 7.5869e-05, 1.1071e-03, 4.9737e-04,\n",
              "        4.5694e-05, 8.0255e-04, 1.1255e-03, 3.6716e-04, 5.1153e-03, 6.2738e-03,\n",
              "        6.6036e-04, 1.5250e-04, 5.9152e-03, 2.9820e-04, 2.7228e-03, 2.0433e-04,\n",
              "        3.6717e-04, 9.6185e-05, 1.7772e-04, 6.4052e-05, 1.9564e-05, 7.4060e-05,\n",
              "        1.0034e-03, 1.0303e-04, 2.4000e-03, 1.6155e-04, 1.2402e-03, 8.6114e-04,\n",
              "        1.2333e-03, 4.1093e-04, 2.4972e-04, 2.8063e-04, 1.1396e-01, 9.2747e-04,\n",
              "        9.1565e-04, 6.4169e-03, 2.6095e-03, 8.8177e-04, 1.5746e-03, 4.9412e-04,\n",
              "        1.7462e-03, 1.0624e-03, 1.3650e-03, 2.6943e-04, 3.3361e-03, 3.2263e-03,\n",
              "        1.3234e-03, 8.9565e-05, 9.3808e-06, 7.1434e-04, 6.6597e-04, 2.9493e-05,\n",
              "        2.4313e-04, 1.0697e-04, 6.7157e-05, 2.7700e-05, 2.9797e-05, 2.6517e-05,\n",
              "        3.1403e-04, 5.1338e-05, 1.3144e-04, 1.3313e-04, 1.6076e-05, 9.9875e-05,\n",
              "        6.3481e-05, 2.2669e-04, 8.7944e-05, 1.5536e-04, 1.5588e-05, 2.3690e-04,\n",
              "        2.0228e-05, 9.8567e-01, 3.8381e-03, 1.2855e-03, 1.2888e-01, 3.0233e-04,\n",
              "        1.8517e-03, 3.6279e-02, 3.8815e-03, 1.1277e-04, 2.2539e-04, 4.4808e-04,\n",
              "        4.7785e-03, 9.0977e-04, 4.5451e-04, 3.8244e-05, 1.6312e-04, 1.0183e-04,\n",
              "        1.6426e-03, 1.3974e-04, 1.1162e-04, 1.6565e-03, 3.6615e-04, 1.3184e-03,\n",
              "        1.9231e-02, 4.5631e-05, 6.8623e-05, 1.4439e-05, 9.0899e-05, 6.1755e-04,\n",
              "        4.0332e-04, 1.0464e-05, 8.8868e-04, 7.9907e-05, 2.4634e-04, 5.3445e-03,\n",
              "        1.0522e-01, 3.1373e-04, 6.8595e-04, 1.2243e-03, 2.6756e-05, 5.4297e-05,\n",
              "        2.1068e-02, 4.5305e-03, 2.5888e-04, 4.6570e-04, 3.6548e-04, 2.8050e-05,\n",
              "        1.1977e-05, 1.0552e-02, 7.7867e-04, 2.1171e-04, 3.7487e-04, 1.5698e-02,\n",
              "        4.7556e-03, 7.3154e-05, 3.0478e-05, 3.3091e-02, 1.2480e-02, 6.4530e-04,\n",
              "        1.6078e-05, 1.3073e-04, 3.2876e-04, 1.1109e-04, 4.1756e-05, 7.0524e-04,\n",
              "        1.2919e-04, 4.3870e-05, 6.5635e-05, 1.5301e-03, 9.7254e-05, 4.4501e-05,\n",
              "        8.0943e-03, 4.2263e-01, 1.1452e-02, 1.8160e-03, 1.3927e-04, 2.9088e-02,\n",
              "        1.1878e-04, 1.1602e-04, 1.5653e-01, 4.2597e-02, 8.1007e-03, 6.3732e-05,\n",
              "        7.0492e-04, 2.7491e-02, 2.2732e-04, 3.7204e-03, 1.9612e-03, 7.0654e-04,\n",
              "        2.6628e-04, 7.7803e-04, 2.1731e-04, 1.0240e-04, 1.7503e-03, 3.5833e-03,\n",
              "        1.5285e-04, 8.2792e-04, 4.2110e-01, 5.3733e-01, 3.3608e-01, 5.2820e-04,\n",
              "        1.8388e-04, 3.1866e-02, 2.4936e-04, 1.7036e-04, 1.3259e-03, 1.5530e-01,\n",
              "        6.8564e+00, 5.2960e+01, 1.1905e+00, 4.8001e-01, 7.5617e-05, 2.4555e+01,\n",
              "        1.1054e+00, 9.3998e-03, 4.1331e-03, 1.0471e-03, 1.3985e-04, 8.5483e-02,\n",
              "        9.2709e-01, 4.0422e-02, 9.3279e-02, 1.4605e+00, 1.2127e-01, 4.4415e-04,\n",
              "        3.0147e-03, 4.1832e-01, 3.6335e-01, 2.2753e-01, 2.5590e-01, 3.3840e-02,\n",
              "        1.1450e-02, 2.3935e-01, 4.4996e-03, 3.0820e-02, 2.6200e-03, 3.8406e-02,\n",
              "        6.2950e-05, 2.6086e-04, 6.8390e-05, 5.2739e-04, 1.9432e-04, 3.8487e-03,\n",
              "        9.7101e-05, 3.2793e-04, 5.9180e-03, 1.5586e-04, 3.6810e-04, 1.5567e-03,\n",
              "        2.4617e-05, 9.4184e-04, 1.0636e-04, 5.2050e-05, 1.9765e-04, 2.3027e-04,\n",
              "        1.2090e-03, 4.8789e-04, 3.2888e-04, 1.4461e-04, 4.3414e-04, 2.1192e-04,\n",
              "        2.3915e-04, 5.2838e-04, 5.1934e-03, 7.6694e-05, 1.3142e-04, 1.0436e-03,\n",
              "        8.8586e-04, 3.3561e-05, 9.4499e-05, 2.7918e-05, 2.4057e-05, 1.4276e-04,\n",
              "        5.2674e-05, 1.4521e-04, 7.9875e-04, 3.4407e-02, 1.8745e-03, 3.6511e-03,\n",
              "        8.5734e-03, 1.8847e-03, 4.5511e-02, 5.0343e-02, 2.9725e-04, 4.8464e-05,\n",
              "        8.4920e-06, 6.2484e-05, 5.3059e-04, 6.0613e-04, 2.4202e-04, 6.9074e-03,\n",
              "        1.0188e-03, 1.2555e-04, 6.6806e-05, 1.9803e-03, 4.4496e-04, 7.4146e-05,\n",
              "        5.6791e-04, 1.3129e-04, 1.7104e-04, 1.1325e-04, 3.8128e-04, 1.3898e-03,\n",
              "        1.4059e-05, 5.3577e-04, 3.6179e-04, 4.2216e-05, 1.3109e-04, 3.4285e-04,\n",
              "        1.1066e-05, 7.4307e-04, 3.1007e-04, 9.7891e-04, 1.2275e-05, 2.2894e-04,\n",
              "        2.3901e-05, 1.0339e-05, 6.8232e-04, 1.3989e-05, 3.3934e-05, 8.2470e-04,\n",
              "        2.9215e-04, 5.6740e-04, 8.0165e-04, 2.3904e-06, 1.2452e-04, 1.5487e-03,\n",
              "        1.5355e-04, 2.6722e-04, 4.9547e-04, 3.6005e-05, 6.3198e-04, 1.7285e-04,\n",
              "        1.7008e-04, 2.6741e-05, 1.0556e-04, 1.4559e-02, 1.0565e-04, 1.2104e-04,\n",
              "        4.1946e-05, 3.5684e-04, 1.1758e-04, 5.1593e-04, 1.9982e-04, 3.0263e-04,\n",
              "        1.2332e-04, 2.3927e-04, 1.3559e-03, 8.6976e-05, 4.9383e-05, 4.6761e-04,\n",
              "        3.4191e-04, 2.6554e-05, 6.4448e-05, 1.3496e-03, 3.4844e-04, 6.9604e-04,\n",
              "        2.2922e-04, 2.5587e-04, 8.7864e-05, 4.6398e-04, 1.3545e-02, 2.3865e-04,\n",
              "        5.1940e-04, 9.0880e-05, 1.1324e-04, 3.8841e-04, 2.5086e-04, 5.4634e-03,\n",
              "        1.9383e-03, 1.6233e-03, 1.3620e-03, 1.0309e-03, 6.8286e-04, 2.1516e-04,\n",
              "        1.6498e-04, 3.5689e-03, 5.7329e-02, 3.4094e-04, 1.8744e-04, 8.9249e-03,\n",
              "        8.0527e-04, 5.5492e-03, 4.9907e-03, 2.1122e-01, 8.3599e-04, 3.4914e-05,\n",
              "        2.7164e-03, 6.3536e-04, 1.5126e-03, 1.7618e-03, 8.3150e-05, 2.1499e-03,\n",
              "        5.7969e-04, 5.7843e-04, 1.0179e-03, 5.3214e-04, 4.2732e-04, 9.0632e-05,\n",
              "        6.0434e-04, 9.6033e-04, 5.0148e-03, 2.0733e-03, 1.3792e-04, 1.9986e-02,\n",
              "        2.5015e-04, 4.5538e-03, 1.1853e-04, 6.3617e-04, 3.8290e-04, 7.7450e-05,\n",
              "        3.8073e-02, 1.7601e-01, 1.4666e-03, 2.3794e-04, 2.8112e-05, 1.0194e-04,\n",
              "        2.6790e-04, 3.6392e-03, 7.3558e-03, 4.3448e-04, 5.3201e-03, 2.7600e-02,\n",
              "        5.1227e-04, 5.2727e-04, 3.3269e-04, 3.2343e-04, 1.2086e-02, 8.2023e-03,\n",
              "        5.2528e-04, 5.4053e-05, 1.4574e-04, 6.3046e-05, 3.6231e-04, 6.3498e-04,\n",
              "        1.4211e-04, 1.5288e-03, 3.1140e-04, 1.7702e-03, 3.5752e-04, 3.7281e-03,\n",
              "        5.7633e-03, 2.1300e-03, 9.6065e-05, 5.1345e-03, 1.6986e-03, 8.3252e-05,\n",
              "        6.3202e-05, 7.5279e-04, 2.9251e-04, 1.5247e-04, 6.7657e-04, 3.0032e-03,\n",
              "        6.9811e-03, 2.2395e-03, 6.3688e-04, 4.4189e-04, 4.2353e-03, 3.8999e-04,\n",
              "        7.8232e-04, 9.6655e-04, 3.5608e-03, 1.1326e-03, 5.2017e-04, 6.8215e-03,\n",
              "        1.1212e-02, 8.6016e-05, 1.0050e-03, 2.4797e-03, 6.6967e-03, 1.4323e-02,\n",
              "        1.3671e-03, 3.4625e-03, 1.5358e-04, 3.0014e-05, 5.3809e-04, 2.9789e-04,\n",
              "        4.8330e-04, 5.7590e-03, 9.6146e-04, 2.1170e-04, 8.5917e-03, 5.1948e-04,\n",
              "        1.2631e-02, 5.3522e-04, 1.7768e-04, 1.6873e-03, 3.5883e-04, 6.8509e-03,\n",
              "        3.9817e-04, 3.3681e-03, 4.7939e-03, 1.0906e-02, 3.0840e-03, 2.9523e-03,\n",
              "        9.3797e-04, 3.8029e-05, 3.3484e-05, 5.1416e-04, 6.9650e-05, 1.4689e-03,\n",
              "        1.3543e-02, 2.2329e-03, 1.1461e-04, 8.6609e-04, 4.5130e-03, 3.2808e-04,\n",
              "        8.4481e-04, 3.5355e-03, 6.0640e-04, 5.3817e-04, 1.6637e-04, 1.5981e-04,\n",
              "        1.7454e-04, 1.9600e-04, 4.2523e-04, 2.3132e-02, 4.0652e-04, 5.4793e-05,\n",
              "        2.5146e-04, 5.0927e-05, 4.5558e-02, 3.6073e-05, 5.8234e-03, 1.4606e-04,\n",
              "        1.3332e-04, 2.5717e-04, 1.5081e-03, 9.5888e-04, 8.8746e-04, 1.2174e-03,\n",
              "        5.9325e-04, 4.3453e-04, 1.8388e-02, 1.6884e-03, 2.3129e-04, 1.3366e-02,\n",
              "        1.2716e-02, 1.2418e-02, 1.5138e-04, 2.4634e-03, 1.8827e-05, 6.3507e-04,\n",
              "        1.7247e-04, 4.7120e-05, 7.6156e-03, 1.1244e-04, 2.7910e-04, 3.2590e-03,\n",
              "        3.3445e-03, 4.6318e-04, 3.4529e-04, 5.0402e-05, 4.3162e-04, 2.4904e-04,\n",
              "        6.2664e-03, 4.1136e-03, 3.6216e-04, 6.7349e-04, 1.0283e-03, 3.7068e-03,\n",
              "        1.5216e-05, 2.5566e-04, 4.6006e-04, 6.2290e-04, 1.0783e-03, 2.0574e-04,\n",
              "        2.8172e-02, 4.8133e-03, 4.8268e-03, 1.3021e-03, 7.7759e-03, 1.2192e-03,\n",
              "        3.9001e-04, 5.9818e-04, 1.3910e-03, 1.5032e-04, 7.6738e-05, 1.0395e-03,\n",
              "        6.2009e-04, 2.2070e-02, 5.8916e-04, 1.0827e-03, 1.2448e-04, 5.3581e-04,\n",
              "        6.2909e-04, 7.7533e-04, 4.9881e-04, 1.1682e-03, 2.4974e-03, 3.6083e-02,\n",
              "        6.4823e-05, 1.0899e-03, 4.0086e-04, 3.6541e-05, 8.1209e-03, 7.0924e-03,\n",
              "        2.0717e-02, 8.0621e-05, 4.0640e-04, 5.4591e-03, 1.1998e-03, 6.8833e-03,\n",
              "        4.6094e-04, 3.0541e-04, 7.0289e-04, 4.3250e-04, 9.5835e-04, 2.1414e-02,\n",
              "        6.1416e-04, 1.0098e-04, 7.1006e-04, 2.9622e-05, 1.1039e-03, 1.0698e-03,\n",
              "        4.5158e-03, 1.5059e-04, 3.3872e-05, 8.3433e-04, 1.1546e-03, 2.9772e-04,\n",
              "        1.1092e-04, 1.3603e-03, 5.0632e-04, 1.4862e-04, 5.5544e-03, 4.1014e-03,\n",
              "        4.2743e-04, 9.2510e-04, 1.7029e-02, 8.4841e-04, 4.6518e-04, 5.0315e-04,\n",
              "        9.3842e-04, 3.7791e-05, 8.0021e-04, 1.2454e-05, 2.5203e-05, 3.7687e-04,\n",
              "        2.2616e-03, 5.9235e-04, 1.0884e-03, 1.3562e-03, 4.6151e-04, 1.3792e-04,\n",
              "        1.6754e-02, 1.4053e-03, 7.7359e-05, 1.7556e-04, 6.1227e-02, 4.9670e-04,\n",
              "        8.3470e-04, 3.3642e-04, 3.5792e-04, 8.8914e-05, 4.9158e-03, 2.1496e-04,\n",
              "        9.9601e-04, 7.9608e-04, 1.2798e-02, 3.3788e-03, 1.5470e-03, 1.0520e-03,\n",
              "        4.3213e-03, 2.8397e-04, 1.6636e-03, 2.4763e-04, 1.0181e-04, 2.1561e-02,\n",
              "        1.6139e-03, 1.1456e-02, 2.3614e-02, 2.2425e-02, 8.3219e-05, 1.3758e-02,\n",
              "        6.6532e-05, 2.2087e-05, 3.4013e-02, 7.9878e-04, 1.3235e-03, 5.5102e-01,\n",
              "        1.5504e-05, 2.7639e-03, 8.6928e-06, 6.3189e-04, 1.4666e-04, 1.7886e-02,\n",
              "        2.7759e-02, 9.4733e-04, 1.5568e-03, 1.0530e-04, 1.6954e-03, 5.5688e-04,\n",
              "        4.7112e-04, 9.1741e-04, 6.8318e-04, 1.1583e-03, 3.5916e-03, 2.0687e-03,\n",
              "        1.6629e-02, 2.1038e-04, 4.0721e-04, 1.2004e-02, 7.9292e-04, 5.5880e-04,\n",
              "        5.4769e-02, 1.2494e-04, 8.9391e-04, 3.6265e-05, 6.4460e-03, 1.2368e-02,\n",
              "        1.3451e-03, 1.0787e-04, 3.0838e-04, 1.4406e-03, 1.2492e-03, 5.9621e-04,\n",
              "        4.1398e-04, 5.1337e-03, 6.7509e-04, 1.5855e-03, 7.8147e-03, 2.1081e-03,\n",
              "        4.8430e-04, 4.2569e-03, 1.5785e-04, 3.5792e-04, 2.6286e-03, 9.8665e-05,\n",
              "        1.3374e-04, 8.6910e-05, 3.3153e-03, 1.8292e-02, 9.3364e-03, 2.7665e-03,\n",
              "        3.4121e-03, 1.1986e-03, 6.7514e-04, 1.6895e-03, 1.6320e-03, 3.5023e-03,\n",
              "        2.4989e-02, 6.5841e-03, 6.1292e-02, 2.7351e-04, 5.8729e-04, 2.5161e-03,\n",
              "        9.7583e-05, 4.8605e-03, 4.1018e-05, 2.3709e-03, 3.2271e-04, 2.2917e-04,\n",
              "        1.3957e-01, 5.0154e-02, 4.3113e-04, 2.2361e-04, 9.2637e-04, 1.7279e-02,\n",
              "        3.6934e-04, 5.7948e-03, 1.6138e-04, 1.6089e-01, 5.2622e-04, 3.2685e-04,\n",
              "        1.0735e-03, 1.3203e-04, 1.7929e-03, 4.4503e-04, 8.3006e-05, 1.5377e-04,\n",
              "        1.3010e-03, 1.2306e-03, 3.2928e-03, 2.6498e-04, 3.9731e-04, 1.0065e-02,\n",
              "        6.4883e-02, 1.4389e-04, 2.9100e-04, 6.2007e-03, 9.4364e-05, 4.7586e-05,\n",
              "        2.8756e-04, 2.9726e-04, 9.9031e-04, 2.9815e-03, 3.5060e-03, 4.1070e-05,\n",
              "        2.9909e-02, 4.0990e-04, 3.1444e-03, 4.8234e-04, 2.3082e-03, 4.9092e-03,\n",
              "        1.0795e-02, 1.1002e-03, 1.0827e-04, 1.0457e-02, 5.4605e-03, 7.7260e-04,\n",
              "        2.8827e-02, 1.4047e-05, 9.7151e-05, 8.3474e-04, 7.9708e-05, 5.0912e-05,\n",
              "        2.7575e-04, 2.0367e-03, 5.1557e-05, 7.9462e-02, 3.9077e-03, 1.9214e-04,\n",
              "        8.0700e-05, 6.0151e-04, 1.3067e-03, 1.6409e-04, 3.8247e-03, 2.5178e-04,\n",
              "        7.9136e-03, 5.1822e-04, 3.4978e-04, 3.7326e-05, 3.6254e-05, 1.8421e-03,\n",
              "        6.0637e-01, 4.3827e-03, 5.8964e-05, 5.6442e-03, 1.7700e-03, 2.0023e-04,\n",
              "        5.6159e-03, 4.9302e-02, 1.9013e-04, 8.1591e-04, 1.3085e-03, 6.1182e-05,\n",
              "        9.6574e-05, 5.2915e-04, 2.8295e-04, 3.0074e-03, 1.0658e-03, 9.0145e-04,\n",
              "        1.2077e-04, 1.2128e-04, 1.3418e-01, 2.0484e-02, 1.0904e-02, 2.6758e-02,\n",
              "        1.5688e-03, 2.7062e-03, 2.5635e-03, 2.5843e-03, 1.8485e-02, 1.2265e-03,\n",
              "        3.5828e-04, 2.6328e-03, 9.4347e-04, 1.3121e-02, 1.8957e-02, 1.0229e-03,\n",
              "        7.1003e-04, 1.9280e-03, 6.3025e-05, 1.9724e-04, 1.7199e-04, 6.2439e-05,\n",
              "        5.7742e-03, 1.7918e-04, 1.8757e-04, 6.9686e-04, 3.4118e-04, 3.0186e-03,\n",
              "        7.5967e-04, 3.0969e-03, 3.3542e-04, 3.1572e-03, 9.2010e-03, 3.4241e-02,\n",
              "        2.8966e-04, 4.1383e-04, 2.8553e-04, 3.1190e-04, 6.2427e-04, 1.6754e-02,\n",
              "        8.7859e-04, 3.1273e-03, 4.8360e-03, 1.1530e-03, 9.7662e-04, 1.2761e-04,\n",
              "        1.6168e-03, 2.7707e-03, 8.1545e-05, 1.4041e-03, 8.2726e-05, 1.2077e-03,\n",
              "        2.0937e-03, 1.1177e-02, 1.4713e-02, 3.4656e-03, 1.4964e-04, 1.5271e-03,\n",
              "        3.7214e-04, 1.1761e-03, 8.5875e-04, 4.8300e-03, 4.3888e-04, 8.7245e-04,\n",
              "        3.1701e-03, 3.3414e-02, 3.6641e-03, 5.7920e-04, 6.5388e-04, 1.0253e-03,\n",
              "        4.6369e-03, 2.0680e-04, 1.3745e-02, 2.3943e-03, 2.0388e-04, 1.6367e-03,\n",
              "        1.2960e-04, 1.5948e-03, 6.6934e-05, 3.3752e-03, 1.6188e-04, 1.1764e-02,\n",
              "        2.6889e-03, 2.4183e-04, 8.7336e-04, 2.6870e-04, 4.7038e-04, 4.6694e-04,\n",
              "        1.4535e-04, 5.0826e-04, 1.7949e-05, 2.0872e-02, 3.2277e-04, 8.5217e-04,\n",
              "        1.6519e-04, 1.4228e-03, 1.1313e-03, 7.6144e-05, 1.6740e-04, 2.9765e-04,\n",
              "        6.2207e-04, 1.4974e-04, 4.2376e-03, 9.4166e-02],\n",
              "       grad_fn=<MulBackward0>)"
            ]
          },
          "metadata": {
            "tags": []
          },
          "execution_count": 75
        }
      ]
    },
    {
      "cell_type": "code",
      "metadata": {
        "id": "Z6i96O0IuAPa"
      },
      "source": [
        ""
      ],
      "execution_count": null,
      "outputs": []
    }
  ]
}